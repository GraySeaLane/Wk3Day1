{
 "cells": [
  {
   "cell_type": "code",
   "execution_count": null,
   "metadata": {},
   "outputs": [
    {
     "name": "stdout",
     "output_type": "stream",
     "text": [
      "2\n"
     ]
    }
   ],
   "source": [
    "#Whiteboard\n",
    "\n",
    "def digits(nums):\n",
    "    even=0\n",
    "    for i in nums:\n",
    "        if len(str(i)) %2 == 0:\n",
    "            even += 1\n",
    "    return even\n",
    "        \n",
    "print(digits([12, 345, 2, 6, 7896]))"
   ]
  },
  {
   "cell_type": "markdown",
   "metadata": {},
   "source": [
    "# Map, Filter, Reduce, Lambda & Recursion"
   ]
  },
  {
   "cell_type": "markdown",
   "metadata": {},
   "source": [
    "## Tasks Today:\n",
    "\n",
    "1) <b>Lambda Functions</b> <br>\n",
    " &nbsp;&nbsp;&nbsp;&nbsp; a) Syntax <br>\n",
    " &nbsp;&nbsp;&nbsp;&nbsp; b) Saving to a Variable <br>\n",
    " &nbsp;&nbsp;&nbsp;&nbsp; c) Multiple Inputs <br>\n",
    " &nbsp;&nbsp;&nbsp;&nbsp; d) Passing a Lambda into a Function <br>\n",
    " &nbsp;&nbsp;&nbsp;&nbsp; e) Returning a Lambda from a Function <br>\n",
    " &nbsp;&nbsp;&nbsp;&nbsp; f) In-Class Exercise #1 <br>\n",
    "2) <b>Map</b> <br>\n",
    " &nbsp;&nbsp;&nbsp;&nbsp; a) Syntax <br>\n",
    " &nbsp;&nbsp;&nbsp;&nbsp; b) Using Lambda's with Map <br>\n",
    " &nbsp;&nbsp;&nbsp;&nbsp; c) In-Class Exercise #2 <br>\n",
    "3) <b>Filter</b> <br>\n",
    " &nbsp;&nbsp;&nbsp;&nbsp; a) Syntax <br>\n",
    " &nbsp;&nbsp;&nbsp;&nbsp; b) Using Lambda's with Filter <br>\n",
    " &nbsp;&nbsp;&nbsp;&nbsp; c) In-Class Exercise #3 <br>\n",
    "4) <b>Reduce</b> <br>\n",
    " &nbsp;&nbsp;&nbsp;&nbsp; a) Syntax <br>\n",
    " &nbsp;&nbsp;&nbsp;&nbsp; b) Using Lambda's with Reduce <br>\n",
    " &nbsp;&nbsp;&nbsp;&nbsp; c) In-Class Exercise #4 <br>\n",
    "5) <b>Recursion</b> <br>\n",
    " &nbsp;&nbsp;&nbsp;&nbsp; a) Implementing a Base <br>\n",
    " &nbsp;&nbsp;&nbsp;&nbsp; b) Writing a Factorial Function <br>\n",
    " &nbsp;&nbsp;&nbsp;&nbsp; c) In-Class Exercise #5 <br>\n",
    "6) <b>Generators & Iterators</b> <br>\n",
    " &nbsp;&nbsp;&nbsp;&nbsp; a) Yield Keyword <br>\n",
    " &nbsp;&nbsp;&nbsp;&nbsp; b) Inifinite Generator <br>\n",
    " &nbsp;&nbsp;&nbsp;&nbsp; c) In-Class Exercise #6 <br>\n",
    "7) <b>Exercises</b> <br>\n",
    " &nbsp;&nbsp;&nbsp;&nbsp; a) Exercise #1 - Filtering Empty Strings <br>\n",
    " &nbsp;&nbsp;&nbsp;&nbsp; b) Exercise #2 - Sorting with Last Name <br>\n",
    " &nbsp;&nbsp;&nbsp;&nbsp; c) Exercise #3 - Conversion to Farhenheit <br>\n",
    " &nbsp;&nbsp;&nbsp;&nbsp; d) Exercise #4 - Fibonacci Sequence <br>"
   ]
  },
  {
   "cell_type": "markdown",
   "metadata": {},
   "source": [
    "## Lambda Functions <br>\n",
    "<p>Lambda functions... or \"Anonymous Functions\" are referring to inline functions with no name. The keyword lambda denotes the no name function, and executes within a single line. Without saving it to a variable; however, it is not able to be used, unless passed in either as a paramater or within list comprehension.<br>Written as \"(keyword lambda) (one or more inputs) (colon) (function to be executed)\"</p>"
   ]
  },
  {
   "cell_type": "markdown",
   "metadata": {},
   "source": [
    "#### Syntax"
   ]
  },
  {
   "cell_type": "code",
   "execution_count": null,
   "metadata": {},
   "outputs": [
    {
     "name": "stdout",
     "output_type": "stream",
     "text": [
      "4\n",
      "<function my_function at 0x105b180e0>\n",
      "4\n"
     ]
    }
   ],
   "source": [
    "#def keyword for define, storing it to memory\n",
    "def my_function(param):\n",
    "    #if that param was an integer \n",
    "    \n",
    "    return param + 2\n",
    "print(my_function(2))\n",
    "\n",
    "#priting without paranthesis gives you location in memory\n",
    "print(my_function)\n",
    "\n",
    "#utilizing lambda we can do the same thing\n",
    "\n",
    "        #def.   #passing a parameter\n",
    "print((lambda param: param +2)(2))"
   ]
  },
  {
   "cell_type": "markdown",
   "metadata": {},
   "source": [
    "#### Saving to a Variable"
   ]
  },
  {
   "cell_type": "code",
   "execution_count": null,
   "metadata": {},
   "outputs": [
    {
     "name": "stdout",
     "output_type": "stream",
     "text": [
      "<function <lambda> at 0x105b19940>\n",
      "8\n"
     ]
    }
   ],
   "source": [
    "# we don't have to store to memory but we can if we want\n",
    "my_lambda = lambda num1, num2: num1 +num2\n",
    "\n",
    "#same as\n",
    "# def my_lambda(num1, num2):\n",
    "#     return num1 +num2\n",
    "\n",
    "print(my_lambda)\n",
    "print(my_lambda(3,5))\n"
   ]
  },
  {
   "cell_type": "markdown",
   "metadata": {},
   "source": [
    "#### Multiple Inputs"
   ]
  },
  {
   "cell_type": "code",
   "execution_count": null,
   "metadata": {},
   "outputs": [
    {
     "name": "stdout",
     "output_type": "stream",
     "text": [
      "hello there Kym\n"
     ]
    }
   ],
   "source": [
    "print((lambda str1, str2: str1+ \" \" +str2)(\"Hello there\", \"Kym\"))\n",
    "\n",
    "#same as\n",
    "# def str_func(str1, str2):\n",
    "#     return arr1+ \" \" +str2"
   ]
  },
  {
   "cell_type": "markdown",
   "metadata": {},
   "source": [
    "#### Passing a Lambda into a Function"
   ]
  },
  {
   "cell_type": "code",
   "execution_count": null,
   "metadata": {},
   "outputs": [
    {
     "name": "stdout",
     "output_type": "stream",
     "text": [
      "8\n",
      "2\n"
     ]
    }
   ],
   "source": [
    "            #1st param, 2nd\n",
    "def do_an_op(func, num):\n",
    "    \n",
    "    \n",
    "    #doc strings can print when \n",
    "    \"\"\"\n",
    "    func is expected to be an lambda func\n",
    "    num is expected to be int\n",
    "    the func to_do_op take a function and performs a num\n",
    "    \n",
    "    \"\"\"\n",
    "    return func(num)\n",
    "# help(do_an_op)\n",
    "\n",
    "#when I call a func I am going to give it a lambda\n",
    "                \n",
    "                #1st arg, #second arg\n",
    "\n",
    "print(do_an_op(lambda num: num*2, 4))\n",
    "print(do_an_op(lambda num: num//2, 4))\n",
    "\n",
    "#floor division // rounds down to the floor\n",
    "#regular / makes float\n",
    "#rounding #round()"
   ]
  },
  {
   "cell_type": "markdown",
   "metadata": {},
   "source": [
    "#### Returning a Lambda from a Function"
   ]
  },
  {
   "cell_type": "code",
   "execution_count": null,
   "metadata": {},
   "outputs": [
    {
     "name": "stdout",
     "output_type": "stream",
     "text": [
      "<function return_func.<locals>.multiply at 0x105d8ac00>\n",
      "8\n"
     ]
    }
   ],
   "source": [
    "#a function inside a func\n",
    "def return_func():\n",
    "    \n",
    "    def multiply(num):\n",
    "        return num *2\n",
    "\n",
    "    return multiply\n",
    "#call upon out function n store to var\n",
    "outer_func = return_func()\n",
    "print(outer_func)\n",
    "\n",
    "print(outer_func(4))\n"
   ]
  },
  {
   "cell_type": "code",
   "execution_count": null,
   "metadata": {},
   "outputs": [],
   "source": [
    "#having a lambda func inside of another func\n",
    "\n",
    "def return_lamb():\n",
    "    \n",
    "    return lambda num:num*2\n",
    "\n",
    "outer_func2 = return_lambda()\n",
    "\n",
    "print(outer_func2)\n",
    "print(outer_func2(4))\n"
   ]
  },
  {
   "cell_type": "markdown",
   "metadata": {},
   "source": [
    "#### If Statements within Lambdas"
   ]
  },
  {
   "cell_type": "code",
   "execution_count": null,
   "metadata": {},
   "outputs": [
    {
     "name": "stdout",
     "output_type": "stream",
     "text": [
      "8\n",
      "16\n",
      "10\n"
     ]
    }
   ],
   "source": [
    "#list comprehension\n",
    "\n",
    "#transform, iteration and conditional \n",
    "#TIC\n",
    "\n",
    "# IF ELSE\n",
    "\n",
    "my_conditional_func = lambda num: num * 2 if num <10 else num\n",
    "\n",
    "print(my_conditional_func(4))\n",
    "print(my_conditional_func(8))\n",
    "print(my_conditional_func(10))\n",
    "\n"
   ]
  },
  {
   "cell_type": "code",
   "execution_count": null,
   "metadata": {},
   "outputs": [
    {
     "name": "stdout",
     "output_type": "stream",
     "text": [
      "18\n",
      "57\n",
      "29\n"
     ]
    }
   ],
   "source": [
    "#if conditional with multiple conditionals (same format for list comprehension and lambda)\n",
    "my_multi_func = lambda num: num *2 if num <10 else (num*3 if num <20 else num)\n",
    "    \n",
    "print(my_multi_func(9))\n",
    "print(my_multi_func(19))\n",
    "print(my_multi_func(29))"
   ]
  },
  {
   "cell_type": "markdown",
   "metadata": {},
   "source": [
    "#### In-Class Exercise #1 <br>\n",
    "<p>Write an anonymous function that cubes the arguments passed in and assign the anonymous function to a variable 'f'.</p>"
   ]
  },
  {
   "cell_type": "code",
   "execution_count": null,
   "metadata": {},
   "outputs": [
    {
     "name": "stdout",
     "output_type": "stream",
     "text": [
      "9\n"
     ]
    }
   ],
   "source": [
    "ano_fun = lambda f: f*f*f if f <20 else f\n",
    "print(ano_fun(3))"
   ]
  },
  {
   "cell_type": "markdown",
   "metadata": {},
   "source": [
    "## Map <br>\n",
    "<p>The map function allows you to iterate over an entire list while running a function on each item of the list. This is why the map function works well with lambda's, because it simplifies things and you write less lines of code.<br>The syntax for a map function is \"map(function to be used, list to be used)\"<br>However, you must be careful, as the map function returns a map object, not a list. To turn it into a list we use the list() type conversion.</p>"
   ]
  },
  {
   "cell_type": "markdown",
   "metadata": {},
   "source": [
    "#### Syntax"
   ]
  },
  {
   "cell_type": "code",
   "execution_count": null,
   "metadata": {},
   "outputs": [
    {
     "name": "stdout",
     "output_type": "stream",
     "text": [
      "[25, 49, 9, 121]\n"
     ]
    }
   ],
   "source": [
    "#takes in two arguments\n",
    "#1st being a function, 2nd is the iterable (lists, sets, tuples, strings, dictioinaries)\n",
    "\n",
    "def squared(num1, num2):\n",
    "    \n",
    "    return num1 ** 2, num2 **2\n",
    "#let us define our iterable\n",
    "nums = [5, 7, 3, 11]\n",
    "\n",
    "#I want to square every number inside my list nums\n",
    "                    #1st arg is our function, 2nd arg is iterable (nums)\n",
    "    #map is a for loop\n",
    "squared_nums = list(map(squared, nums))\n",
    "print(squared_nums)"
   ]
  },
  {
   "cell_type": "code",
   "execution_count": null,
   "metadata": {},
   "outputs": [
    {
     "name": "stdout",
     "output_type": "stream",
     "text": [
      "[25]\n",
      "[25, 49]\n",
      "[25, 49, 9]\n",
      "[25, 49, 9, 121]\n"
     ]
    }
   ],
   "source": [
    "#long handed way\n",
    "squared_nums2 = []\n",
    "for num in nums:\n",
    "        squared_nums2.append(squared(num))\n",
    "        print (squared_nums2)"
   ]
  },
  {
   "cell_type": "code",
   "execution_count": null,
   "metadata": {},
   "outputs": [
    {
     "name": "stdout",
     "output_type": "stream",
     "text": [
      "[(25, 81), (49, 484), (9, 64), (121, 169)]\n",
      "[25, 49, 9, 121]\n",
      "[81, 484, 64, 169]\n"
     ]
    }
   ],
   "source": [
    "#passing in 2 iterables vs just 1\n",
    "def more_squared(num1, num2):\n",
    "    return num1 **2, num2 **2\n",
    "\n",
    "#lets define our iterable\n",
    "nums= [5,7, 3, 11]\n",
    "more_nums= [9, 22, 8, 13]\n",
    "\n",
    "squared_nums3 =list(map(more_squared, nums, more_nums))\n",
    "print(squared_nums3)\n",
    "\n",
    "#squared_nums3 is a list of tuples\n",
    "#tuple cannot be changed, but can be re created (iterate)\n",
    "\n",
    "#we can use the zip function to deconstruct a list of tuples into multiple lists\n",
    "square1, square2 = zip(*squared_nums3)\n",
    "\n",
    "print(list(square1))\n",
    "print(list(square2))"
   ]
  },
  {
   "cell_type": "markdown",
   "metadata": {},
   "source": [
    "#### Using Lambda's with Map"
   ]
  },
  {
   "cell_type": "code",
   "execution_count": null,
   "metadata": {},
   "outputs": [
    {
     "name": "stdout",
     "output_type": "stream",
     "text": [
      "[(25, 81), (49, 484), (9, 64), (121, 169)]\n"
     ]
    }
   ],
   "source": [
    "#do the same thing but with our lambda func\n",
    "\n",
    "squared_lambda_nums = list(map(lambda x,y:(x**2, y**2), nums, more_nums))\n",
    "print(squared_lambda_nums)"
   ]
  },
  {
   "cell_type": "code",
   "execution_count": null,
   "metadata": {},
   "outputs": [],
   "source": []
  },
  {
   "cell_type": "markdown",
   "metadata": {},
   "source": [
    "#### In-Class Exercise #2 <br>\n",
    "<p>Use the map function to double each number and minus it by one in the list by using a lambda function</p>"
   ]
  },
  {
   "cell_type": "code",
   "execution_count": null,
   "metadata": {},
   "outputs": [
    {
     "name": "stdout",
     "output_type": "stream",
     "text": [
      "[(9, 17), (13, 43), (5, 15), (21, 25)]\n"
     ]
    }
   ],
   "source": [
    "double_num = list(map(lambda x, y:(x*2-1, y*2-1), nums, more_nums))\n",
    "print(double_num)"
   ]
  },
  {
   "cell_type": "markdown",
   "metadata": {},
   "source": [
    "## Filter() <br>\n",
    "<p>Filter's are similar to the map function, where you're able to pass a function argument and a list argument and filter out something from the list based on the conditions passed. Similar to the map function, it returns a filter object, so you need to type convert it to a list()</p>"
   ]
  },
  {
   "cell_type": "markdown",
   "metadata": {},
   "source": [
    "#### Syntax"
   ]
  },
  {
   "cell_type": "code",
   "execution_count": null,
   "metadata": {},
   "outputs": [
    {
     "name": "stdout",
     "output_type": "stream",
     "text": [
      "[22, 13]\n"
     ]
    }
   ],
   "source": [
    "#filters allows us to create rules to then filter out data from our iterables\n",
    "\n",
    "#reg func\n",
    "def even_digits(num1):\n",
    "    if len(str(num1)) %2 ==0:\n",
    "        return True\n",
    "    else:\n",
    "        return False\n",
    "# one liner of above satements    return if len(str(num1))%2 ==0\n",
    "#filter() like map() takes in 2+ arg\n",
    "#1st is functino\n",
    "#2nd is iterable\n",
    "\n",
    "more_nums = [9, 22, 8, 13]\n",
    "\n",
    "my_filtered_list = list(filter(even_digits, more_nums))\n",
    "print(my_filtered_list)"
   ]
  },
  {
   "cell_type": "code",
   "execution_count": null,
   "metadata": {},
   "outputs": [
    {
     "name": "stdout",
     "output_type": "stream",
     "text": [
      "['Chicago', 'Cincinatti', 'New Orleans', 'Savanah', 'Boston', 'Houston', 'Nashville']\n"
     ]
    }
   ],
   "source": [
    "# #filter through a list of names\n",
    "\n",
    "# city_list = [\"Chicago\", \"New Orleans\", \"Boston\"]\n",
    "\n",
    "# def ten_letters(city):\n",
    "#     return len(city) >= 10\n",
    "\n",
    "# ten_letter_cities = list(filter(ten_letters, city_list))\n",
    "# print(ten_letter_cities)\n",
    "\n",
    "# return len(city.split()) > 0\n",
    "\n",
    "# #filtering through a list of names \n",
    "\n",
    "\n",
    "city_list = ['Chicago', 'Cincinatti', 'New Orleans', 'Savanah', 'Boston', 'Houston', 'Nashville', '    ']\n",
    "\n",
    "#our cool rule is cities that are longer than 10 letters\n",
    "\n",
    "def ten_letters(city):\n",
    "    \n",
    "    return len(city.split()) > 0\n",
    "\n",
    "\n",
    "ten_letter_cities = list(filter(ten_letters, city_list))\n",
    "\n",
    "print(ten_letter_cities)"
   ]
  },
  {
   "cell_type": "markdown",
   "metadata": {},
   "source": [
    "#### Using Lambda's with Filter()"
   ]
  },
  {
   "cell_type": "code",
   "execution_count": null,
   "metadata": {},
   "outputs": [
    {
     "name": "stdout",
     "output_type": "stream",
     "text": [
      "['New Orleans']\n"
     ]
    }
   ],
   "source": [
    "print(list(filter(lambda city: True if len(city) >= 10 else False, city_list)))"
   ]
  },
  {
   "cell_type": "code",
   "execution_count": null,
   "metadata": {},
   "outputs": [],
   "source": []
  },
  {
   "cell_type": "markdown",
   "metadata": {},
   "source": [
    "#### In-Class Exercise #3 <br>\n",
    "<p>Filter out all the numbers that are below the mean of the list.<br><b>Hint: Import the 'statistics' module</b></p>"
   ]
  },
  {
   "cell_type": "code",
   "execution_count": null,
   "metadata": {},
   "outputs": [
    {
     "name": "stdout",
     "output_type": "stream",
     "text": [
      "15.5\n"
     ]
    }
   ],
   "source": [
    "# import * from statistics\n",
    "\n",
    "from statistics import mean\n",
    "\n",
    "more_nums = [9, 23, 22, 8]\n",
    "print (mean(more_nums))"
   ]
  },
  {
   "cell_type": "code",
   "execution_count": null,
   "metadata": {},
   "outputs": [],
   "source": [
    "nums_mean = mean(more_nums)\n",
    "\n",
    "output = list(filter(lambda x: x >= nums_mean, more_nums))\n",
    "\n",
    "print(output)"
   ]
  },
  {
   "cell_type": "code",
   "execution_count": null,
   "metadata": {},
   "outputs": [
    {
     "ename": "NameError",
     "evalue": "name 'filter_mean' is not defined",
     "output_type": "error",
     "traceback": [
      "\u001b[0;31m---------------------------------------------------------------------------\u001b[0m",
      "\u001b[0;31mNameError\u001b[0m                                 Traceback (most recent call last)",
      "Cell \u001b[0;32mIn[109], line 2\u001b[0m\n\u001b[1;32m      1\u001b[0m \u001b[38;5;66;03m#this lambda function returns a true or false\u001b[39;00m\n\u001b[0;32m----> 2\u001b[0m \u001b[38;5;28mprint\u001b[39m(\u001b[38;5;28mlist\u001b[39m(\u001b[38;5;28mfilter\u001b[39m(\u001b[38;5;28;01mlambda\u001b[39;00m num: num \u001b[38;5;241m>\u001b[39m\u001b[38;5;241m=\u001b[39m filter_mean, more_nums)))\n\u001b[1;32m      4\u001b[0m \u001b[38;5;66;03m#lambda num is the same as below\u001b[39;00m\n\u001b[1;32m      5\u001b[0m \u001b[38;5;28;01mdef\u001b[39;00m \u001b[38;5;21mmean_func\u001b[39m(num):\n",
      "Cell \u001b[0;32mIn[109], line 2\u001b[0m, in \u001b[0;36m<lambda>\u001b[0;34m(num)\u001b[0m\n\u001b[1;32m      1\u001b[0m \u001b[38;5;66;03m#this lambda function returns a true or false\u001b[39;00m\n\u001b[0;32m----> 2\u001b[0m \u001b[38;5;28mprint\u001b[39m(\u001b[38;5;28mlist\u001b[39m(\u001b[38;5;28mfilter\u001b[39m(\u001b[38;5;28;01mlambda\u001b[39;00m num: num \u001b[38;5;241m>\u001b[39m\u001b[38;5;241m=\u001b[39m filter_mean, more_nums)))\n\u001b[1;32m      4\u001b[0m \u001b[38;5;66;03m#lambda num is the same as below\u001b[39;00m\n\u001b[1;32m      5\u001b[0m \u001b[38;5;28;01mdef\u001b[39;00m \u001b[38;5;21mmean_func\u001b[39m(num):\n",
      "\u001b[0;31mNameError\u001b[0m: name 'filter_mean' is not defined"
     ]
    }
   ],
   "source": [
    "#this lambda function returns a true or false\n",
    "print(list(filter(lambda num: num >= filter_mean, more_nums)))\n",
    "\n",
    "#lambda num is the same as below\n",
    "def mean_func(num):\n",
    "    \n",
    "    if num >= filter_mean:\n",
    "        return True\n",
    "    else:\n",
    "        return False\n",
    "\n",
    "\n",
    "#do this longhanded without filter\n",
    "\n",
    "filtered_list = []\n",
    "\n",
    "#for loop without calling upon a function\n",
    "for num in more_nums:\n",
    "    if num >= filter_mean:\n",
    "        filtered_list.append(num)\n",
    "\n",
    "filtered_list2 = []\n",
    "        \n",
    "    \n",
    "#print(list(filter(lambda num: num >= filter_mean, more_nums)))\n",
    "#for loop with calling a function\n",
    "\n",
    "for num in more_nums:\n",
    "    if mean_func(num):\n",
    "        filtered_list2.append(num)\n",
    "        \n",
    "print(filtered_list)\n",
    "print(filtered_list2)"
   ]
  },
  {
   "cell_type": "markdown",
   "metadata": {},
   "source": [
    "## Reduce() <br>\n",
    "<p>Be very careful when using this function, as of Python 3 it's been moved to the 'functools' library and no longer is a built-in function.<br>The creator of Python himself, says to just use a for loop instead.</p>"
   ]
  },
  {
   "cell_type": "markdown",
   "metadata": {},
   "source": [
    "#### Syntax"
   ]
  },
  {
   "cell_type": "code",
   "execution_count": null,
   "metadata": {},
   "outputs": [
    {
     "name": "stdout",
     "output_type": "stream",
     "text": [
      "9\n",
      "207\n",
      "4554\n",
      "36432\n"
     ]
    }
   ],
   "source": [
    "#sum() essentially reducing our data from an iterable down to 1 number.\n",
    "\n",
    "from functools import reduce\n",
    "\n",
    "more_nums = [9, 23, 22, 8]\n",
    "\n",
    "#I want to mult all the nums in more nums together\n",
    "#best method below\n",
    "\n",
    "my_sum = 1\n",
    "\n",
    "for num in more_nums:\n",
    "    my_sum *= num\n",
    "    print(my_sum)"
   ]
  },
  {
   "cell_type": "code",
   "execution_count": null,
   "metadata": {},
   "outputs": [
    {
     "name": "stdout",
     "output_type": "stream",
     "text": [
      "36432\n"
     ]
    }
   ],
   "source": [
    "#how to do with the above with reduce\n",
    "\n",
    "def multiple(num1, num2):\n",
    "    return num1 * num2\n",
    "\n",
    "#just like the map() and filter() the reduce takes in 2+ arguments\n",
    "#1st function\n",
    "#2nd is iterable\n",
    "\n",
    "print(reduce(multiple, more_nums))"
   ]
  },
  {
   "cell_type": "markdown",
   "metadata": {},
   "source": [
    "#### Using Lambda's with Reduce()"
   ]
  },
  {
   "cell_type": "code",
   "execution_count": null,
   "metadata": {},
   "outputs": [],
   "source": [
    "print(reduce(lambda num1, num2: num1 * num2, more_nums))"
   ]
  },
  {
   "cell_type": "code",
   "execution_count": null,
   "metadata": {},
   "outputs": [],
   "source": []
  },
  {
   "cell_type": "markdown",
   "metadata": {},
   "source": [
    "#### In-Class Exercise #4 <br>\n",
    "<p>Use the reduce function to multiply the numbers in the list below together with a lambda function.</p>"
   ]
  },
  {
   "cell_type": "code",
   "execution_count": null,
   "metadata": {},
   "outputs": [],
   "source": [
    "print(reduce(lambda num1, num2: num1 * num2, more_nums))"
   ]
  },
  {
   "cell_type": "markdown",
   "metadata": {},
   "source": [
    "## Recursion <br>\n",
    "<p>Recursion means that a function is calling itself, so it contanstly executes until a base case is reached. It will then push the returning values back up the chain until the function is complete. A prime example of recursion is computing factorials... such that 5! (factorial) is 5*4*3*2*1 which equals 120.</p>"
   ]
  },
  {
   "cell_type": "markdown",
   "metadata": {},
   "source": [
    "#### Implementing a Base Case"
   ]
  },
  {
   "cell_type": "code",
   "execution_count": null,
   "metadata": {},
   "outputs": [],
   "source": []
  },
  {
   "cell_type": "markdown",
   "metadata": {},
   "source": [
    "#### Writing a Factorial Function"
   ]
  },
  {
   "cell_type": "code",
   "execution_count": null,
   "metadata": {},
   "outputs": [],
   "source": []
  },
  {
   "cell_type": "markdown",
   "metadata": {},
   "source": [
    "#### In-Class Exercise #5 <br>\n",
    "<p>Write a recursive function that subtracts all numbers to the argument given.</p>"
   ]
  },
  {
   "cell_type": "code",
   "execution_count": null,
   "metadata": {},
   "outputs": [],
   "source": []
  },
  {
   "cell_type": "markdown",
   "metadata": {},
   "source": [
    "## Generators <br>\n",
    "<p>Generators are a type of iterable, like lists or tuples. They do not allow indexing, but they can still be iterated through with for loops. They are created using functions and the yield statement.</p>"
   ]
  },
  {
   "cell_type": "markdown",
   "metadata": {},
   "source": [
    "#### Yield Keyword <br>\n",
    "<p>The yield keyword denotes a generator, it doesn't return so it won't leave the function and reset all variables in the function scope, instead it yields the number back to the caller.</p>"
   ]
  },
  {
   "cell_type": "code",
   "execution_count": null,
   "metadata": {
    "scrolled": true
   },
   "outputs": [
    {
     "name": "stdout",
     "output_type": "stream",
     "text": [
      "0\n",
      "1\n",
      "2\n",
      "3\n",
      "4\n",
      "5\n",
      "6\n",
      "7\n",
      "8\n",
      "9\n"
     ]
    }
   ],
   "source": [
    "#these are similar to functions, but we use yield instead of return\n",
    "#yield returns bits of the data om small chucks vs all at once\n",
    "#helps with processing the data and storing it\n",
    "\n",
    "#define a function that emmulates the range()\n",
    "#range (start, stop, step)& it iterates through an iterable (list, tuple, etc)\n",
    "                            \n",
    "                            #default parameter\n",
    "def my_range(start, stop, step= 1):\n",
    "    \n",
    "    while start < stop:\n",
    "        yield start #returns with out stopping \n",
    "        start += step #need to increment to start\n",
    "                #keyword arguments\n",
    "for i in my_range(start= 0, stop= 10):\n",
    "    print(i)"
   ]
  },
  {
   "cell_type": "code",
   "execution_count": null,
   "metadata": {},
   "outputs": [],
   "source": [
    "# *args **kwargs"
   ]
  },
  {
   "cell_type": "markdown",
   "metadata": {},
   "source": [
    "#### next() keyword\n",
    "<p>Returns next element from the list, if not present prints the default value. If default value is not present, raises the StopIteration error.</p>"
   ]
  },
  {
   "cell_type": "code",
   "execution_count": null,
   "metadata": {},
   "outputs": [],
   "source": [
    "#see below have to create generator object"
   ]
  },
  {
   "cell_type": "markdown",
   "metadata": {},
   "source": [
    "#### Creating a Generator Object\n",
    "<p>The generator object will store an iterable on which we can call the next() method.</p>"
   ]
  },
  {
   "cell_type": "code",
   "execution_count": null,
   "metadata": {},
   "outputs": [],
   "source": [
    "my_generator_object = my_range(0, 10, 2)\n",
    "# print(my_gen_object)"
   ]
  },
  {
   "cell_type": "code",
   "execution_count": null,
   "metadata": {},
   "outputs": [
    {
     "data": {
      "text/plain": [
       "8"
      ]
     },
     "execution_count": 26,
     "metadata": {},
     "output_type": "execute_result"
    }
   ],
   "source": [
    "next(my_generator_object)"
   ]
  },
  {
   "cell_type": "markdown",
   "metadata": {},
   "source": [
    "<p>Use try and except to print graceful message instead of the StopIteration error:"
   ]
  },
  {
   "cell_type": "code",
   "execution_count": null,
   "metadata": {},
   "outputs": [
    {
     "name": "stdout",
     "output_type": "stream",
     "text": [
      "2\n"
     ]
    }
   ],
   "source": [
    "try:\n",
    "    print(next(my_generator_object))\n",
    "except:\n",
    "    print(\"No more numbers in list\")"
   ]
  },
  {
   "cell_type": "code",
   "execution_count": null,
   "metadata": {},
   "outputs": [],
   "source": []
  },
  {
   "cell_type": "code",
   "execution_count": null,
   "metadata": {},
   "outputs": [],
   "source": []
  },
  {
   "cell_type": "markdown",
   "metadata": {},
   "source": [
    "#### In-Class Exercise #6 <br>\n",
    "<p>Create a generator that takes a number argument and yields that number squared, then prints each number squared until zero is reached.</p>"
   ]
  },
  {
   "cell_type": "code",
   "execution_count": null,
   "metadata": {},
   "outputs": [],
   "source": [
    "def my_generator_object(start, stop, step):\n",
    "    \n",
    "# print(my_gen_object)\n",
    "    while start >= stop:\n",
    "        yield start **2\n",
    "        start-=step\n",
    "my_generator = my_generator_object(start=10, stop=0, step=1)\n"
   ]
  },
  {
   "cell_type": "code",
   "execution_count": null,
   "metadata": {},
   "outputs": [
    {
     "data": {
      "text/plain": [
       "100"
      ]
     },
     "execution_count": 36,
     "metadata": {},
     "output_type": "execute_result"
    }
   ],
   "source": [
    "next(my_generator)"
   ]
  },
  {
   "cell_type": "code",
   "execution_count": null,
   "metadata": {},
   "outputs": [],
   "source": [
    "def square_num(num):\n",
    "    while num > 0:\n",
    "        yield num **2\n",
    "        print(num**2)\n",
    "        num -= 1\n",
    "\n",
    "generator_object = square_num(6)\n",
    "\n",
    "for item in generator_object:\n",
    "    item\n",
    "\n",
    "print(\"done\")"
   ]
  },
  {
   "cell_type": "markdown",
   "metadata": {},
   "source": [
    "# Exercises"
   ]
  },
  {
   "cell_type": "markdown",
   "metadata": {},
   "source": [
    "### Exercise #1 <br>\n",
    "<p>Filter out all of the empty strings from the list below</p>\n",
    "\n",
    "`Output: ['Argentina', 'San Diego', 'Boston', 'New York']`"
   ]
  },
  {
   "cell_type": "code",
   "execution_count": 10,
   "metadata": {},
   "outputs": [
    {
     "name": "stdout",
     "output_type": "stream",
     "text": [
      "['Argentina', 'San Diego', 'Boston', 'New York', 'Nashville']\n"
     ]
    }
   ],
   "source": [
    "places = [\" \",\"Argentina\", \" \", \"San Diego\",\"\",\"  \",\"\",\"Boston\",\"New York\", \"Nashville\", \" \"]\n",
    "\n",
    "print(list(filter(lambda x: x.strip() != \"\", places)))\n"
   ]
  },
  {
   "cell_type": "markdown",
   "metadata": {},
   "source": [
    "### Exercise #2 <br>\n",
    "<p>Write an anonymous function that sorts this list by the last name...<br><b>Hint: Use the \".sort()\" method and access the key\"</b></p>\n",
    "\n",
    "`Output: ['Victor aNisimov', 'Gary A.J. Bernstein', 'Joel Carter', 'Andrew P. Garfield', 'David hassELHOFF']`"
   ]
  },
  {
   "cell_type": "code",
   "execution_count": 1,
   "metadata": {},
   "outputs": [
    {
     "name": "stdout",
     "output_type": "stream",
     "text": [
      "['Victor aNisimov', 'Gary A.J. Bernstein', 'Joel Carter', 'Andrew P. Garfield', 'David hassELHOFF']\n"
     ]
    }
   ],
   "source": [
    "author = [\"Joel Carter\", \"Victor aNisimov\", \"Andrew P. Garfield\",\"David hassELHOFF\",\"Gary A.J. Bernstein\"]\n",
    "\n",
    "print(sorted(author, key=lambda auth: auth.split()[-1].lower()))\n"
   ]
  },
  {
   "cell_type": "markdown",
   "metadata": {},
   "source": [
    "### Exercise #3 <br>\n",
    "<p>Convert the list below from Celsius to Farhenheit, using the map function with a lambda...</p>\n",
    "\n",
    "`Output: [('Nashua', 89.6), ('Boston', 53.6), ('Los Angelos', 111.2), ('Miami', 84.2)]\n",
    "`"
   ]
  },
  {
   "cell_type": "code",
   "execution_count": 2,
   "metadata": {},
   "outputs": [
    {
     "name": "stdout",
     "output_type": "stream",
     "text": [
      "[('Nashua', 89.6), ('Boston', 53.6), ('Los Angelos', 111.2), ('Miami', 84.2)]\n"
     ]
    }
   ],
   "source": [
    "# F = (9/5)*C + 32\n",
    "places = [('Nashua',32),(\"Boston\",12),(\"Los Angelos\",44),(\"Miami\",29)]\n",
    "\n",
    "print(list(map(lambda temp: (temp[0], (temp[1] * 9/5) + 32), places)))\n"
   ]
  },
  {
   "cell_type": "markdown",
   "metadata": {},
   "source": [
    "### Exercise #4 <br>\n",
    "<p>Create a generator function that individually returns each movie genre back from the list</p>\n",
    "\n",
    "\n"
   ]
  },
  {
   "cell_type": "code",
   "execution_count": 6,
   "metadata": {
    "scrolled": true
   },
   "outputs": [],
   "source": [
    "genres = [\"adventure\", \"drama\", \"horror\", \"comedy\", \"action\", \"romance\"]\n",
    "\n",
    "\n",
    "def my_genres(arr):\n",
    "    for gen in arr:\n",
    "        yield gen\n",
    "\n",
    "my_generator_object = my_genres(genres)"
   ]
  },
  {
   "cell_type": "code",
   "execution_count": 8,
   "metadata": {},
   "outputs": [
    {
     "name": "stdout",
     "output_type": "stream",
     "text": [
      "drama\n"
     ]
    }
   ],
   "source": [
    "try:\n",
    "    print(next(my_generator_object))\n",
    "except:\n",
    "    print(\"No more genres.\")"
   ]
  },
  {
   "cell_type": "code",
   "execution_count": null,
   "metadata": {},
   "outputs": [],
   "source": []
  }
 ],
 "metadata": {
  "kernelspec": {
   "display_name": "Python 3 (ipykernel)",
   "language": "python",
   "name": "python3"
  },
  "language_info": {
   "codemirror_mode": {
    "name": "ipython",
    "version": 3
   },
   "file_extension": ".py",
   "mimetype": "text/x-python",
   "name": "python",
   "nbconvert_exporter": "python",
   "pygments_lexer": "ipython3",
   "version": "3.11.5"
  }
 },
 "nbformat": 4,
 "nbformat_minor": 2
}
